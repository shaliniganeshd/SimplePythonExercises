{
 "cells": [
  {
   "cell_type": "code",
   "execution_count": null,
   "id": "600ba9ea-5e7c-4a8e-a871-b60ad4088c5c",
   "metadata": {},
   "outputs": [],
   "source": [
    "# This program calculates the factorial of a number provided by the user.\n",
    "\n",
    "# Taking input from the user\n",
    "num = int(input(\"Enter a number: \"))\n",
    "\n",
    "# Initializing the factorial variable\n",
    "factorial = 1\n",
    "\n",
    "# Calculating the factorial\n",
    "for i in range(1, num + 1):\n",
    "    factorial *= i\n",
    "\n",
    "# Displaying the result\n",
    "print(f\"The factorial of {num} is {factorial}\")\n"
   ]
  }
 ],
 "metadata": {
  "kernelspec": {
   "display_name": "Python 3 (ipykernel)",
   "language": "python",
   "name": "python3"
  },
  "language_info": {
   "codemirror_mode": {
    "name": "ipython",
    "version": 3
   },
   "file_extension": ".py",
   "mimetype": "text/x-python",
   "name": "python",
   "nbconvert_exporter": "python",
   "pygments_lexer": "ipython3",
   "version": "3.12.4"
  }
 },
 "nbformat": 4,
 "nbformat_minor": 5
}
