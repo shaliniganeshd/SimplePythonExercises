{
 "cells": [
  {
   "cell_type": "code",
   "execution_count": null,
   "id": "f72ed027-4ed6-4217-ad85-36e4780d5ab0",
   "metadata": {
    "vscode": {
     "languageId": "python"
    }
   },
   "outputs": [],
   "source": [
    "# This program prints the Fibonacci sequence up to n-th term provided by the user.\n",
    "\n",
    "# Taking input from the user\n",
    "n = int(input(\"Enter the number of terms: \"))\n",
    "\n",
    "# Initializing the first two terms\n",
    "a, b = 0, 1\n",
    "count = 0\n",
    "\n",
    "# Generating the Fibonacci sequence\n",
    "print(\"Fibonacci sequence:\")\n",
    "while count < n:\n",
    "    print(a)\n",
    "    nth = a + b\n",
    "    # Update values\n",
    "    a = b\n",
    "    b = nth\n",
    "    count += 1\n"
   ]
  }
 ],
 "metadata": {
  "kernelspec": {
   "display_name": "",
   "name": ""
  },
  "language_info": {
   "name": ""
  }
 },
 "nbformat": 4,
 "nbformat_minor": 5
}
