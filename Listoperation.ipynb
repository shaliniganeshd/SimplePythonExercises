{
 "cells": [
  {
   "cell_type": "code",
   "execution_count": 19,
   "id": "4b2f80f4-3929-4fde-9913-14801f40c963",
   "metadata": {},
   "outputs": [
    {
     "name": "stdout",
     "output_type": "stream",
     "text": [
      "6\n"
     ]
    }
   ],
   "source": [
    "list = [23,34,45,56,67,78]\n",
    "print(len(list))"
   ]
  },
  {
   "cell_type": "code",
   "execution_count": 6,
   "id": "26bfcade-4931-43eb-a179-fac2305c2e6f",
   "metadata": {},
   "outputs": [
    {
     "name": "stdout",
     "output_type": "stream",
     "text": [
      "[78, 34, 45, 56, 67, 23]\n"
     ]
    }
   ],
   "source": [
    "list[0],list[len(list)-1]=list[len(list)-1],list[0]\n",
    "print(list)"
   ]
  },
  {
   "cell_type": "code",
   "execution_count": 15,
   "id": "e6793b45-b47b-4712-8dd0-24dd679eb74e",
   "metadata": {},
   "outputs": [
    {
     "name": "stdout",
     "output_type": "stream",
     "text": [
      "0\n"
     ]
    }
   ],
   "source": [
    "if 78 in list:\n",
    "    print(list.index(78))\n"
   ]
  },
  {
   "cell_type": "code",
   "execution_count": 16,
   "id": "6f9a5077-f8b1-4873-86e5-57259f0fbd02",
   "metadata": {},
   "outputs": [
    {
     "name": "stdout",
     "output_type": "stream",
     "text": [
      "23\n",
      "78\n"
     ]
    }
   ],
   "source": [
    "print(min(list))\n",
    "print(max(list))"
   ]
  },
  {
   "cell_type": "code",
   "execution_count": 75,
   "id": "b124acc2-bf65-43e3-b822-12defacf8354",
   "metadata": {},
   "outputs": [
    {
     "name": "stdout",
     "output_type": "stream",
     "text": [
      "[67]\n",
      "[-234, -24, 23, 34, 56, 67, 78]\n"
     ]
    }
   ],
   "source": [
    "list.reverse()\n",
    "print(list[-2:-1])\n",
    "print(list)"
   ]
  },
  {
   "cell_type": "code",
   "execution_count": 36,
   "id": "4624e292-df7a-4198-8131-059f289c0663",
   "metadata": {},
   "outputs": [
    {
     "name": "stdout",
     "output_type": "stream",
     "text": [
      "23\n",
      "34\n",
      "45\n",
      "56\n",
      "67\n",
      "78\n",
      "\n",
      "\n"
     ]
    }
   ],
   "source": [
    "for i in range(len(list)):\n",
    "    print(list[i] if list[i]>0 else \"\")\n"
   ]
  },
  {
   "cell_type": "code",
   "execution_count": 37,
   "id": "149df6a3-7d0b-4dfa-8928-b9ab5704ee1d",
   "metadata": {},
   "outputs": [
    {
     "name": "stdout",
     "output_type": "stream",
     "text": [
      "45\n"
     ]
    }
   ],
   "source": [
    "print(list.pop(2))"
   ]
  },
  {
   "cell_type": "code",
   "execution_count": 70,
   "id": "bdfd0970-f013-46dd-8094-6ab7bd7c9224",
   "metadata": {},
   "outputs": [
    {
     "name": "stdout",
     "output_type": "stream",
     "text": [
      "[6, 5, 4, 3, 2, 1]\n"
     ]
    }
   ],
   "source": [
    "newlist.reverse()\n",
    "print(newlist)"
   ]
  },
  {
   "cell_type": "code",
   "execution_count": 46,
   "id": "e501c20b-d512-4a89-a165-9ec968f787f4",
   "metadata": {},
   "outputs": [
    {
     "name": "stdout",
     "output_type": "stream",
     "text": [
      "1\n",
      "4\n",
      "9\n",
      "16\n",
      "25\n"
     ]
    }
   ],
   "source": [
    "newlist = [1,2,3,4,5]\n",
    "for i in range(len(newlist)):\n",
    "    print(newlist[i]*newlist[i])"
   ]
  },
  {
   "cell_type": "code",
   "execution_count": 57,
   "id": "669d8325-b126-4bb9-8a37-5ccd50888e8d",
   "metadata": {},
   "outputs": [
    {
     "name": "stdout",
     "output_type": "stream",
     "text": [
      "[4, 5, 6]\n"
     ]
    }
   ],
   "source": [
    "print(newlist[-3:])"
   ]
  },
  {
   "cell_type": "code",
   "execution_count": null,
   "id": "b2501e34-f1a0-45a1-8954-e9cdc8316848",
   "metadata": {},
   "outputs": [],
   "source": []
  },
  {
   "cell_type": "code",
   "execution_count": null,
   "id": "361fb9af-4da3-4328-b7bc-7c4ef47789a1",
   "metadata": {},
   "outputs": [],
   "source": []
  }
 ],
 "metadata": {
  "kernelspec": {
   "display_name": "Python 3 (ipykernel)",
   "language": "python",
   "name": "python3"
  },
  "language_info": {
   "codemirror_mode": {
    "name": "ipython",
    "version": 3
   },
   "file_extension": ".py",
   "mimetype": "text/x-python",
   "name": "python",
   "nbconvert_exporter": "python",
   "pygments_lexer": "ipython3",
   "version": "3.12.4"
  }
 },
 "nbformat": 4,
 "nbformat_minor": 5
}
